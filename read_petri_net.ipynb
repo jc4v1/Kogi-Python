{
 "cells": [
  {
   "cell_type": "code",
   "execution_count": 1,
   "id": "23e2b425",
   "metadata": {},
   "outputs": [
    {
     "name": "stdout",
     "output_type": "stream",
     "text": [
      "{'net': places: [ p0, p1, p10, p2, p3, p4, p5, p6, p7, p8, p9 ]\n",
      "transitions: [ (t_1, 't_1'), (t_10, 'FS'), (t_11, 'AP'), (t_2, 'UE'), (t_3, 'RA'), (t_4, 't_4'), (t_5, 'G'), (t_6, 'O'), (t_7, 't_7'), (t_8, 'PT'), (t_9, 't_9') ]\n",
      "arcs: [ (t_1, 't_1')->p1, (t_1, 't_1')->p2, (t_10, 'FS')->p9, (t_11, 'AP')->p7, (t_2, 'UE')->p3, (t_3, 'RA')->p4, (t_4, 't_4')->p5, (t_5, 'G')->p6, (t_6, 'O')->p6, (t_7, 't_7')->p7, (t_8, 'PT')->p8, (t_9, 't_9')->p10, p0->(t_1, 't_1'), p1->(t_2, 'UE'), p2->(t_3, 'RA'), p3->(t_4, 't_4'), p4->(t_4, 't_4'), p5->(t_5, 'G'), p5->(t_6, 'O'), p6->(t_7, 't_7'), p7->(t_8, 'PT'), p8->(t_10, 'FS'), p8->(t_9, 't_9'), p9->(t_11, 'AP') ],\n",
      " 'init': ['p0:1'],\n",
      " 'final': ['p10:1'],\n",
      " 'positions': {'p0': (38.0, 299.5),\n",
      "               'p1': (219.0, 340.5),\n",
      "               'p2': (223.0, 243.5),\n",
      "               'p3': (488.0, 342.5),\n",
      "               'p4': (489.0, 240.5),\n",
      "               'p5': (657.0, 291.5),\n",
      "               'p6': (903.0, 293.5),\n",
      "               'p7': (1091.0, 207.5),\n",
      "               'p9': (1209.0, 398.5),\n",
      "               'p8': (1345.0, 208.5),\n",
      "               'p10': (1521.0, 205.5),\n",
      "               't_1': (129.0, 295.5),\n",
      "               't_2': (360.0, 343.5),\n",
      "               't_3': (360.0, 239.5),\n",
      "               't_4': (560.0, 289.5),\n",
      "               't_5': (769.0, 376.5),\n",
      "               't_6': (771.0, 212.5),\n",
      "               't_7': (998.0, 291.5),\n",
      "               't_8': (1216.0, 207.5),\n",
      "               't_9': (1430.0, 206.5),\n",
      "               't_10': (1345.0, 401.5),\n",
      "               't_11': (1088.0, 398.5)}}\n"
     ]
    }
   ],
   "source": [
    "# STEP 2: Import all necessary libraries\n",
    "from pm4py.objects.petri_net.obj import PetriNet, Marking\n",
    "from pm4py.objects.petri_net.utils import petri_utils\n",
    "from pm4py.visualization.petri_net import visualizer as pn_vis\n",
    "from pm4py.objects.petri_net.utils import reachability_graph\n",
    "from pm4py.visualization.transition_system import visualizer as ts_visualizer\n",
    "from pm4py.objects.petri_net.exporter import exporter as pnml_exporter\n",
    "from pprint import pp\n",
    "from NewSemantics.petri_net_processor import read_petri_net\n",
    "\n",
    "petri_net = read_petri_net(\"demo2.pnml\")\n",
    "pp(petri_net.__dict__)\n"
   ]
  },
  {
   "cell_type": "code",
   "execution_count": null,
   "id": "916de89b",
   "metadata": {},
   "outputs": [],
   "source": [
    "\n",
    "\n",
    "# STEP 4: Define the markings\n",
    "initial_marking = Marking()\n",
    "initial_marking[source] = 1\n",
    "\n",
    "final_marking = Marking()\n",
    "final_marking[sink] = 1\n",
    "\n",
    "# STEP 5: Visualize the Petri net\n",
    "gviz = pn_vis.apply(net, initial_marking, final_marking)\n",
    "pn_vis.view(gviz)\n",
    "\n",
    "# STEP 6: Compute and visualize reachability graph\n",
    "ts = reachability_graph.construct_reachability_graph(net, initial_marking)\n",
    "\n",
    "# Visualize the reachability graph (SVG)\n",
    "gviz_ts = ts_visualizer.apply(ts, parameters={\n",
    "    ts_visualizer.Variants.VIEW_BASED.value.Parameters.FORMAT: \"png\"\n",
    "})\n",
    "ts_visualizer.view(gviz_ts)\n",
    "\n",
    "# STEP 7: Export to PNML file\n",
    "pnml_exporter.apply(net, initial_marking, \"petri_net.pnml\")\n",
    "print(\"Petri net exported to 'petri_net.pnml'\")\n"
   ]
  }
 ],
 "metadata": {
  "kernelspec": {
   "display_name": "Python 3",
   "language": "python",
   "name": "python3"
  },
  "language_info": {
   "codemirror_mode": {
    "name": "ipython",
    "version": 3
   },
   "file_extension": ".py",
   "mimetype": "text/x-python",
   "name": "python",
   "nbconvert_exporter": "python",
   "pygments_lexer": "ipython3",
   "version": "3.11.4"
  }
 },
 "nbformat": 4,
 "nbformat_minor": 5
}
