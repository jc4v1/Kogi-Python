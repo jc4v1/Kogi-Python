{
 "cells": [
  {
   "cell_type": "code",
   "execution_count": null,
   "id": "23e2b425",
   "metadata": {},
   "outputs": [
    {
     "name": "stdout",
     "output_type": "stream",
     "text": [
      "init = []\n",
      "final = ['p2:1']\n",
      "{'_Transition__name': 't1',\n",
      " '_Transition__label': 'AP',\n",
      " '_Transition__in_arcs': {p1->(t1, 'AP')},\n",
      " '_Transition__out_arcs': {(t1, 'AP')->p2},\n",
      " '_Transition__properties': {'trans_name_tag': 'AP'}}\n",
      "{'_Place__name': 'p2',\n",
      " '_Place__in_arcs': {(t1, 'AP')->p2},\n",
      " '_Place__out_arcs': set(),\n",
      " '_Place__properties': {'place_name_tag': 'p2'}}\n"
     ]
    }
   ],
   "source": [
    "# STEP 2: Import all necessary libraries\n",
    "from pm4py.objects.petri_net.obj import PetriNet, Marking\n",
    "from pm4py.objects.petri_net.utils import petri_utils\n",
    "from pm4py.visualization.petri_net import visualizer as pn_vis\n",
    "from pm4py.objects.petri_net.utils import reachability_graph\n",
    "from pm4py.visualization.transition_system import visualizer as ts_visualizer\n",
    "from pm4py.objects.petri_net.exporter import exporter as pnml_exporter\n",
    "from pprint import pp\n",
    "from NewSemantics.petri_net_processor import read_petri_net\n",
    "\n",
    "petri_net = read_petri_net(\"very_simple.pnml\")\n",
    "# pp(petri_net.__dict__)\n",
    "pp(list(petri_net.net.arcs)[0].source.__dict__)\n",
    "pp(list(petri_net.net.arcs)[0].target.__dict__)\n",
    "print(f\"initial place = {petri_net.initial_place()}\")\n"
   ]
  },
  {
   "cell_type": "code",
   "execution_count": 2,
   "id": "916de89b",
   "metadata": {},
   "outputs": [
    {
     "ename": "NameError",
     "evalue": "name 'source' is not defined",
     "output_type": "error",
     "traceback": [
      "\u001b[0;31m---------------------------------------------------------------------------\u001b[0m",
      "\u001b[0;31mNameError\u001b[0m                                 Traceback (most recent call last)",
      "Cell \u001b[0;32mIn[2], line 3\u001b[0m\n\u001b[1;32m      1\u001b[0m \u001b[38;5;66;03m# STEP 4: Define the markings\u001b[39;00m\n\u001b[1;32m      2\u001b[0m initial_marking \u001b[38;5;241m=\u001b[39m Marking()\n\u001b[0;32m----> 3\u001b[0m initial_marking[\u001b[43msource\u001b[49m] \u001b[38;5;241m=\u001b[39m \u001b[38;5;241m1\u001b[39m\n\u001b[1;32m      5\u001b[0m final_marking \u001b[38;5;241m=\u001b[39m Marking()\n\u001b[1;32m      6\u001b[0m final_marking[sink] \u001b[38;5;241m=\u001b[39m \u001b[38;5;241m1\u001b[39m\n",
      "\u001b[0;31mNameError\u001b[0m: name 'source' is not defined"
     ]
    }
   ],
   "source": [
    "\n",
    "\n",
    "# STEP 4: Define the markings\n",
    "initial_marking = Marking()\n",
    "initial_marking[source] = 1\n",
    "\n",
    "final_marking = Marking()\n",
    "final_marking[sink] = 1\n",
    "\n",
    "# STEP 5: Visualize the Petri net\n",
    "gviz = pn_vis.apply(net, initial_marking, final_marking)\n",
    "pn_vis.view(gviz)\n",
    "\n",
    "# STEP 6: Compute and visualize reachability graph\n",
    "ts = reachability_graph.construct_reachability_graph(net, initial_marking)\n",
    "\n",
    "# Visualize the reachability graph (SVG)\n",
    "gviz_ts = ts_visualizer.apply(ts, parameters={\n",
    "    ts_visualizer.Variants.VIEW_BASED.value.Parameters.FORMAT: \"png\"\n",
    "})\n",
    "ts_visualizer.view(gviz_ts)\n",
    "\n",
    "# STEP 7: Export to PNML file\n",
    "pnml_exporter.apply(net, initial_marking, \"petri_net.pnml\")\n",
    "print(\"Petri net exported to 'petri_net.pnml'\")\n"
   ]
  }
 ],
 "metadata": {
  "kernelspec": {
   "display_name": "Python 3",
   "language": "python",
   "name": "python3"
  },
  "language_info": {
   "codemirror_mode": {
    "name": "ipython",
    "version": 3
   },
   "file_extension": ".py",
   "mimetype": "text/x-python",
   "name": "python",
   "nbconvert_exporter": "python",
   "pygments_lexer": "ipython3",
   "version": "3.11.4"
  }
 },
 "nbformat": 4,
 "nbformat_minor": 5
}
