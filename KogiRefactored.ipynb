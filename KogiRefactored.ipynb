{
 "cells": [
  {
   "cell_type": "markdown",
   "id": "10bb0492",
   "metadata": {},
   "source": [
    "# Welcome to Kogi Interactive Notebook"
   ]
  },
  {
   "cell_type": "code",
   "execution_count": 1,
   "id": "e60cf401",
   "metadata": {},
   "outputs": [],
   "source": [
    "# Interactive Goal Model Evaluation - Jupyter Notebook\n",
    "# Run each cell sequentially to set up the interactive environment\n",
    "\n",
    "# Cell 1: Setup and Imports\n",
    "from Ui.kogi_ui import create_interface\n",
    "from Implementation.enums import LinkType\n",
    "# from Implementation.goal_model import GoalModel # Old semantics\n",
    "from NewSemantics.goal_model import GoalModel # New Semantics from the paper\n",
    "from NewSemantics.istar_processor import read_istar_model"
   ]
  },
  {
   "cell_type": "code",
   "execution_count": 2,
   "id": "1f52eb54",
   "metadata": {},
   "outputs": [],
   "source": [
    "# CELL 2 - Model Creation Function\n",
    "def create_model():\n",
    "    \"\"\"Create the goal model using your existing create_model function logic\"\"\"\n",
    "    model = GoalModel()\n",
    "    \n",
    "    # Add tasks\n",
    "    tasks = [\"T1\", \"T2\", \"T3\", \"T4\", \"T5\", \"T6\", \"T7\", \"T8\"]\n",
    "    for task in tasks:\n",
    "        model.add_task(task)\n",
    "    \n",
    "    # Add goals\n",
    "    goals = [\"G1\", \"G2\", \"G3\"]\n",
    "    for goal in goals:\n",
    "        model.add_goal(goal)\n",
    "    \n",
    "    # Add quality\n",
    "    model.add_quality(\"Q1\")\n",
    "    \n",
    "    # Add links (from your code)\n",
    "    model.add_link(\"G3\", \"T8\", LinkType.AND)\n",
    "    model.add_link(\"T1\", \"T6\", LinkType.AND)\n",
    "    model.add_link(\"G1\", \"T2\", LinkType.OR)\n",
    "    model.add_link(\"Q1\", \"G2\", LinkType.BREAK)\n",
    "    model.add_link(\"Q1\", \"G1\", LinkType.MAKE)\n",
    "    model.add_link(\"G1\", \"T1\", LinkType.OR)\n",
    "    model.add_link(\"G3\", \"T1\", LinkType.AND)\n",
    "    model.add_link(\"T1\", \"T7\", LinkType.AND)\n",
    "    model.add_link(\"G2\", \"T3\", LinkType.AND)\n",
    "    model.add_link(\"G2\", \"T5\", LinkType.AND)\n",
    "    model.add_link(\"G2\", \"T4\", LinkType.AND)\n",
    "    \n",
    "    # Add requirements\n",
    "    model.requirements = {\n",
    "        \"G3\": [['T8', 'T1']],\n",
    "        \"T1\": [['T6', 'T7']],\n",
    "        \"G1\": [['T2'], ['T1']],\n",
    "        \"G2\": [['T3', 'T5', 'T4']]\n",
    "    }\n",
    "    \n",
    "    # Add event mappings\n",
    "    events = {\n",
    "        \"e1\": \"T1\",\n",
    "        \"e2\": \"T2\",\n",
    "        \"e3\": [[\"T3\"]],\n",
    "        \"e4\": \"T4\",\n",
    "        \"e5\": \"T5\",\n",
    "        \"e6\": \"T6\",\n",
    "        \"e7\": \"T7\",\n",
    "        \"e8\": \"T8\"\n",
    "    }\n",
    "    for event, target in events.items():\n",
    "        model.add_event_mapping(event, target)\n",
    "    \n",
    "    print(\"✓ Model created using your existing logic!\")\n",
    "    return model\n"
   ]
  },
  {
   "cell_type": "code",
   "execution_count": 3,
   "id": "a42c4817",
   "metadata": {},
   "outputs": [],
   "source": [
    "# CELL 2 - Model Creation Function\n",
    "def create_model2():\n",
    "    \"\"\"Create the goal model using your existing create_model function logic\"\"\"\n",
    "    model = GoalModel()\n",
    "    \n",
    "    # Add tasks\n",
    "    tasks = [\"T1\", \"T2\", \"T3\", \"T4\"]\n",
    "    for task in tasks:\n",
    "        model.add_task(task)\n",
    "    \n",
    "    # Add goals\n",
    "    goals = [\"G1\", \"G2\"]\n",
    "    for goal in goals:\n",
    "        model.add_goal(goal)\n",
    "    \n",
    "    # Add quality\n",
    "    model.add_quality(\"Q\")\n",
    "    \n",
    "    # Add links (from your code)\n",
    "    model.add_link(\"Q\", \"G2\", LinkType.BREAK)\n",
    "    model.add_link(\"Q\", \"G1\", LinkType.MAKE)\n",
    "    model.add_link(\"G1\", \"T2\", LinkType.OR)\n",
    "    model.add_link(\"G1\", \"T1\", LinkType.OR)\n",
    "    model.add_link(\"G2\", \"T3\", LinkType.AND)\n",
    "    model.add_link(\"G2\", \"T4\", LinkType.AND)\n",
    "    \n",
    "    # Add requirements\n",
    "    model.requirements = {\n",
    "        \"G1\": [['T2'], ['T1']],\n",
    "        \"G2\": [['T3', 'T4']]\n",
    "    }\n",
    "    \n",
    "    # Add event mappings\n",
    "    events = {\n",
    "        \"e1\": \"T1\",\n",
    "        \"e2\": \"T2\",\n",
    "        \"e3\": \"T3\",\n",
    "        \"e4\": \"T4\"\n",
    "    }\n",
    "    for event, target in events.items():\n",
    "        model.add_event_mapping(event, target)\n",
    "    \n",
    "    print(\"✓ Model created using your existing logic!\")\n",
    "    return model\n"
   ]
  },
  {
   "cell_type": "code",
   "execution_count": 4,
   "id": "5aa9c00a",
   "metadata": {},
   "outputs": [],
   "source": [
    "# CELL 2 - Model Creation Function\n",
    "def create_model_from_paper():\n",
    "    \"\"\"Create the goal model using your existing create_model function logic\"\"\"\n",
    "    model = GoalModel()\n",
    "    \n",
    "    # Add tasks\n",
    "    tasks = [\"PT\", \"FS\", \"AP\", \"IP\", \"UE\", \"RA\", \"DMP\", \"O\", \"G\"]\n",
    "    for task in tasks:\n",
    "        model.add_task(task)\n",
    "    \n",
    "    # Add goals\n",
    "    goals = [\"DB\", \"DP\"]\n",
    "    for goal in goals:\n",
    "        model.add_goal(goal)\n",
    "    \n",
    "    # Add quality\n",
    "    model.add_quality(\"DPA\")\n",
    "    \n",
    "    # Add links (from your code)\n",
    "    model.add_link(\"DPA\", \"DB\", LinkType.BREAK)\n",
    "    model.add_link(\"DPA\", \"AP\", LinkType.MAKE)\n",
    "    model.add_link(\"DPA\", \"DP\", LinkType.MAKE)\n",
    "    model.add_link(\"DB\", \"PT\", LinkType.AND)\n",
    "    model.add_link(\"DB\", \"FS\", LinkType.AND)\n",
    "    model.add_link(\"DP\", \"IP\", LinkType.AND)\n",
    "    model.add_link(\"DP\", \"DMP\", LinkType.AND)\n",
    "    model.add_link(\"IP\", \"UE\", LinkType.AND)\n",
    "    model.add_link(\"IP\", \"RA\", LinkType.AND)\n",
    "    model.add_link(\"DMP\", \"O\", LinkType.OR)\n",
    "    model.add_link(\"DMP\", \"G\", LinkType.OR)\n",
    "    \n",
    "    # Add requirements\n",
    "    model.requirements = {\n",
    "        \"DMP\": [['G'], ['O']],\n",
    "        \"IP\": [['UE', 'RA']],\n",
    "        \"DP\": [['IP', 'DMP']],\n",
    "        \"DB\": [['PT', 'FS']]\n",
    "    }\n",
    "    \n",
    "    # Add event mappings\n",
    "    events = {\n",
    "        \"Perform Penetration Tests\": \"PT\",\n",
    "        \"Flag Suspicious Activity\": \"FS\",\n",
    "        \"Apply Vulnerability Patch\": \"AP\",\n",
    "        \"Update Encryption Standards\": \"UE\",\n",
    "        \"Revise Access Controls\": \"RA\",\n",
    "        \"Deploy OneTrust\": \"O\",\n",
    "        \"Deploy DataGrail\": \"G\"\n",
    "    }\n",
    "    for event, target in events.items():\n",
    "        model.add_event_mapping(event, target)\n",
    "    \n",
    "    print(\"✓ Model created using your existing logic!\")\n",
    "    return model\n"
   ]
  },
  {
   "cell_type": "code",
   "execution_count": 5,
   "id": "84190107",
   "metadata": {},
   "outputs": [],
   "source": [
    "def demo_model():\n",
    "    return read_istar_model(\"Data/Demo.json\")"
   ]
  },
  {
   "cell_type": "code",
   "execution_count": 6,
   "id": "765aa918",
   "metadata": {},
   "outputs": [],
   "source": [
    "def simple_model():\n",
    "    return read_istar_model(\"Data/simple.json\")"
   ]
  },
  {
   "cell_type": "markdown",
   "id": "df78fda7",
   "metadata": {},
   "source": [
    "# Progresive view of the traces"
   ]
  },
  {
   "cell_type": "code",
   "execution_count": 7,
   "id": "d0c68f79",
   "metadata": {},
   "outputs": [
    {
     "data": {
      "application/vnd.jupyter.widget-view+json": {
       "model_id": "7c0c50c4573048e780a575f25f2a45fc",
       "version_major": 2,
       "version_minor": 0
      },
      "text/plain": [
       "VBox(children=(HTML(value=\"\\n    <div style='text-align: center; margin-bottom: 20px;'>\\n        <h1 style='co…"
      ]
     },
     "metadata": {},
     "output_type": "display_data"
    }
   ],
   "source": [
    "# Cell 3: Display Interactive Interface\n",
    "\n",
    "# Display the complete interface\n",
    "interface = create_interface(simple_model)\n",
    "display(interface)"
   ]
  }
 ],
 "metadata": {
  "kernelspec": {
   "display_name": "Python 3",
   "language": "python",
   "name": "python3"
  },
  "language_info": {
   "codemirror_mode": {
    "name": "ipython",
    "version": 3
   },
   "file_extension": ".py",
   "mimetype": "text/x-python",
   "name": "python",
   "nbconvert_exporter": "python",
   "pygments_lexer": "ipython3",
   "version": "3.10.11"
  }
 },
 "nbformat": 4,
 "nbformat_minor": 5
}
