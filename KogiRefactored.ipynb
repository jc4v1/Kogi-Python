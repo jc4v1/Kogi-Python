{
 "cells": [
  {
   "cell_type": "markdown",
   "id": "10bb0492",
   "metadata": {},
   "source": [
    "# Welcome to Kogi Interactive Notebook"
   ]
  },
  {
   "cell_type": "code",
   "execution_count": 1,
   "id": "e60cf401",
   "metadata": {},
   "outputs": [],
   "source": [
    "# Interactive Goal Model Evaluation - Jupyter Notebook\n",
    "# Run each cell sequentially to set up the interactive environment\n",
    "\n",
    "# Cell 1: Setup and Imports\n",
    "from Ui.kogi_ui import create_interface\n",
    "from Implementation.enums import LinkType\n",
    "# from Implementation.goal_model import GoalModel # Old semantics\n",
    "from NewSemantics.goal_model import GoalModel # New Semantics from the paper\n",
    "from NewSemantics.istar_processor import read_istar_model"
   ]
  },
  {
   "cell_type": "code",
   "execution_count": 2,
   "id": "1f52eb54",
   "metadata": {},
   "outputs": [],
   "source": [
    "# CELL 2 - Model Creation Function\n",
    "def create_model_from_code():\n",
    "    \"\"\"Create the goal model using your existing create_model function logic\"\"\"\n",
    "    model = GoalModel()\n",
    "    \n",
    "    # Add tasks\n",
    "    tasks = [\"T1\"]\n",
    "    for task in tasks:\n",
    "        model.add_task(task)\n",
    "    \n",
    "    # Add goals\n",
    "    goals = [\"G1\"]\n",
    "    for goal in goals:\n",
    "        model.add_goal(goal)\n",
    "    \n",
    "    # Add quality\n",
    "    model.add_quality(\"Q1\")\n",
    "    \n",
    "    # Add links (from your code)\n",
    "    model.add_link(\"Q1\", \"G1\", LinkType.MAKE)\n",
    "    model.add_link(\"G1\", \"T1\", LinkType.OR)\n",
    "    \n",
    "    # Add requirements\n",
    "    model.requirements = {\n",
    "        \"G1\": [['T1']]\n",
    "    }\n",
    "    \n",
    "    # Add event mappings\n",
    "    events = {\n",
    "        \"e1\": \"T1\"\n",
    "    }\n",
    "    for event, target in events.items():\n",
    "        model.add_event_mapping(event, target)\n",
    "    return model\n"
   ]
  },
  {
   "cell_type": "markdown",
   "id": "df78fda7",
   "metadata": {},
   "source": [
    "# Progresive view of the traces"
   ]
  },
  {
   "cell_type": "markdown",
   "id": "6b3723f6",
   "metadata": {},
   "source": [
    "The goal model can be created programmatically, as method `create_model_from_code` shows, or the [Pistar tool](https://www.cin.ufpe.br/~jhcp/pistar/tool/index.html) can be used. \n",
    "The exported text file can then be read using the `read_istar_model` function."
   ]
  },
  {
   "cell_type": "code",
   "execution_count": 3,
   "id": "d0c68f79",
   "metadata": {},
   "outputs": [],
   "source": [
    "# Cell 3: Display Interactive Interface\n",
    "# Create a model\n",
    "# model = create_model_from_code()\n",
    "# model = read_istar_model(\"Data/Demo.txt\")\n",
    "# model = read_istar_model(\"Data/Demo_layout_changed.txt\")\n",
    "model = read_istar_model(\"Data/simple.txt\")\n",
    "# model = read_istar_model(\"Data/example_from_paper.txt\")\n",
    "\n"
   ]
  },
  {
   "cell_type": "code",
   "execution_count": 4,
   "id": "87fe743a",
   "metadata": {},
   "outputs": [
    {
     "data": {
      "application/vnd.jupyter.widget-view+json": {
       "model_id": "9348beabe66c433880864720df2a7639",
       "version_major": 2,
       "version_minor": 0
      },
      "text/plain": [
       "VBox(children=(HTML(value=\"\\n    <div style='text-align: center; margin-bottom: 20px;'>\\n        <h1 style='co…"
      ]
     },
     "metadata": {},
     "output_type": "display_data"
    }
   ],
   "source": [
    "\n",
    "# Display the complete interface\n",
    "interface = create_interface(model)\n",
    "display(interface)"
   ]
  }
 ],
 "metadata": {
  "kernelspec": {
   "display_name": "Python 3",
   "language": "python",
   "name": "python3"
  },
  "language_info": {
   "codemirror_mode": {
    "name": "ipython",
    "version": 3
   },
   "file_extension": ".py",
   "mimetype": "text/x-python",
   "name": "python",
   "nbconvert_exporter": "python",
   "pygments_lexer": "ipython3",
   "version": "3.10.11"
  }
 },
 "nbformat": 4,
 "nbformat_minor": 5
}
