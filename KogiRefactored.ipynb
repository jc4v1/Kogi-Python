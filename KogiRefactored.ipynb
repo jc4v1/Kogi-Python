{
 "cells": [
  {
   "cell_type": "markdown",
   "id": "10bb0492",
   "metadata": {},
   "source": [
    "# Welcome to Kogi Interactive Notebook"
   ]
  },
  {
   "cell_type": "code",
   "execution_count": 1,
   "id": "e60cf401",
   "metadata": {},
   "outputs": [],
   "source": [
    "# Interactive Goal Model Evaluation - Jupyter Notebook\n",
    "# Run each cell sequentially to set up the interactive environment\n",
    "\n",
    "# Cell 1: Setup and Imports\n",
    "from Ui.kogi_ui import create_interface\n",
    "from Implementation.enums import LinkType\n",
    "# from Implementation.goal_model import GoalModel # Old semantics\n",
    "from NewSemantics.goal_model import GoalModel # New Semantics from the paper"
   ]
  },
  {
   "cell_type": "code",
   "execution_count": 2,
   "id": "1f52eb54",
   "metadata": {},
   "outputs": [],
   "source": [
    "# CELL 2 - Model Creation Function\n",
    "def create_model_from_your_code():\n",
    "    \"\"\"Create the goal model using your existing create_model function logic\"\"\"\n",
    "    model = GoalModel()\n",
    "    \n",
    "    # Add tasks\n",
    "    tasks = [\"T1\", \"T2\", \"T3\", \"T4\", \"T5\", \"T6\", \"T7\", \"T8\"]\n",
    "    for task in tasks:\n",
    "        model.add_task(task)\n",
    "    \n",
    "    # Add goals\n",
    "    goals = [\"G1\", \"G2\", \"G3\"]\n",
    "    for goal in goals:\n",
    "        model.add_goal(goal)\n",
    "    \n",
    "    # Add quality\n",
    "    model.add_quality(\"Q1\")\n",
    "    \n",
    "    # Add links (from your code)\n",
    "    model.add_link(\"G3\", \"T8\", LinkType.AND)\n",
    "    model.add_link(\"T1\", \"T6\", LinkType.AND)\n",
    "    model.add_link(\"G1\", \"T2\", LinkType.OR)\n",
    "    model.add_link(\"Q1\", \"G2\", LinkType.BREAK)\n",
    "    model.add_link(\"Q1\", \"G1\", LinkType.MAKE)\n",
    "    model.add_link(\"G1\", \"T1\", LinkType.OR)\n",
    "    model.add_link(\"G3\", \"T1\", LinkType.AND)\n",
    "    model.add_link(\"T1\", \"T7\", LinkType.AND)\n",
    "    model.add_link(\"G2\", \"T3\", LinkType.AND)\n",
    "    model.add_link(\"G2\", \"T5\", LinkType.AND)\n",
    "    model.add_link(\"G2\", \"T4\", LinkType.AND)\n",
    "    \n",
    "    # Add requirements\n",
    "    model.requirements = {\n",
    "        \"G3\": [['T8', 'T1']],\n",
    "        \"T1\": [['T6', 'T7']],\n",
    "        \"G1\": [['T2'], ['T1']],\n",
    "        \"G2\": [['T3', 'T5', 'T4']]\n",
    "    }\n",
    "    \n",
    "    # Add event mappings\n",
    "    events = {\n",
    "        \"e1\": \"T1\",\n",
    "        \"e2\": \"T2\",\n",
    "        \"e3\": [[\"T3\"]],\n",
    "        \"e4\": \"T4\",\n",
    "        \"e5\": \"T5\",\n",
    "        \"e6\": \"T6\",\n",
    "        \"e7\": \"T7\",\n",
    "        \"e8\": \"T8\"\n",
    "    }\n",
    "    for event, target in events.items():\n",
    "        model.add_event_mapping(event, target)\n",
    "    \n",
    "    print(\"✓ Model created using your existing logic!\")\n",
    "    return model\n"
   ]
  },
  {
   "cell_type": "markdown",
   "id": "df78fda7",
   "metadata": {},
   "source": [
    "# Progresive view of the traces"
   ]
  },
  {
   "cell_type": "code",
   "execution_count": null,
   "id": "d0c68f79",
   "metadata": {},
   "outputs": [
    {
     "name": "stdout",
     "output_type": "stream",
     "text": [
      "✓ Model created using your existing logic!\n"
     ]
    },
    {
     "data": {
      "application/vnd.jupyter.widget-view+json": {
       "model_id": "4797534a04574b5b8e612cbbe2a8a42b",
       "version_major": 2,
       "version_minor": 0
      },
      "text/plain": [
       "VBox(children=(HTML(value=\"\\n    <div style='text-align: center; margin-bottom: 20px;'>\\n        <h1 style='co…"
      ]
     },
     "metadata": {},
     "output_type": "display_data"
    }
   ],
   "source": [
    "# Cell 3: Display Interactive Interface\n",
    "\n",
    "# Display the complete interface\n",
    "interface = create_interface(create_model_from_your_code)\n",
    "display(interface)"
   ]
  }
 ],
 "metadata": {
  "kernelspec": {
   "display_name": "Python 3",
   "language": "python",
   "name": "python3"
  },
  "language_info": {
   "codemirror_mode": {
    "name": "ipython",
    "version": 3
   },
   "file_extension": ".py",
   "mimetype": "text/x-python",
   "name": "python",
   "nbconvert_exporter": "python",
   "pygments_lexer": "ipython3",
   "version": "3.10.11"
  }
 },
 "nbformat": 4,
 "nbformat_minor": 5
}
