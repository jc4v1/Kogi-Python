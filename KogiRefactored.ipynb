{
 "cells": [
  {
   "cell_type": "markdown",
   "id": "10bb0492",
   "metadata": {},
   "source": [
    "# Welcome to Kogi Interactive Notebook"
   ]
  },
  {
   "cell_type": "code",
   "execution_count": 1,
   "id": "e60cf401",
   "metadata": {},
   "outputs": [],
   "source": [
    "# Interactive Goal Model Evaluation - Jupyter Notebook\n",
    "# Run each cell sequentially to set up the interactive environment\n",
    "\n",
    "# Cell 1: Setup and Imports\n",
    "from Ui.kogi_ui import create_interface\n",
    "from Implementation.enums import LinkType\n",
    "# from Implementation.goal_model import GoalModel # Old semantics\n",
    "from NewSemantics.goal_model import GoalModel # New Semantics from the paper\n",
    "from NewSemantics.istar_processor import read_istar_model"
   ]
  },
  {
   "cell_type": "code",
   "execution_count": 2,
   "id": "1f52eb54",
   "metadata": {},
   "outputs": [],
   "source": [
    "# CELL 2 - Model Creation Function\n",
    "def create_model():\n",
    "    \"\"\"Create the goal model using your existing create_model function logic\"\"\"\n",
    "    model = GoalModel()\n",
    "    \n",
    "    # Add tasks\n",
    "    tasks = [\"T1\"]\n",
    "    for task in tasks:\n",
    "        model.add_task(task)\n",
    "    \n",
    "    # Add goals\n",
    "    goals = [\"G1\"]\n",
    "    for goal in goals:\n",
    "        model.add_goal(goal)\n",
    "    \n",
    "    # Add quality\n",
    "    model.add_quality(\"Q1\")\n",
    "    \n",
    "    # Add links (from your code)\n",
    "    model.add_link(\"Q1\", \"G1\", LinkType.MAKE)\n",
    "    model.add_link(\"G1\", \"T1\", LinkType.OR)\n",
    "    \n",
    "    # Add requirements\n",
    "    model.requirements = {\n",
    "        \"G1\": [['T1']]\n",
    "    }\n",
    "    \n",
    "    # Add event mappings\n",
    "    events = {\n",
    "        \"e1\": \"T1\"\n",
    "    }\n",
    "    for event, target in events.items():\n",
    "        model.add_event_mapping(event, target)\n",
    "    return model\n"
   ]
  },
  {
   "cell_type": "code",
   "execution_count": 3,
   "id": "84190107",
   "metadata": {},
   "outputs": [],
   "source": [
    "def demo_model():\n",
    "    return read_istar_model(\"Data/Demo.json\")\n",
    "\n",
    "def simple_model():\n",
    "    return read_istar_model(\"Data/simple.json\")\n",
    "\n",
    "def paper_model():\n",
    "    return read_istar_model(\"Data/paper_example.txt\")"
   ]
  },
  {
   "cell_type": "markdown",
   "id": "df78fda7",
   "metadata": {},
   "source": [
    "# Progresive view of the traces"
   ]
  },
  {
   "cell_type": "code",
   "execution_count": 4,
   "id": "d0c68f79",
   "metadata": {},
   "outputs": [
    {
     "data": {
      "application/vnd.jupyter.widget-view+json": {
       "model_id": "861d591efe9b4560920f4ed7c300983c",
       "version_major": 2,
       "version_minor": 0
      },
      "text/plain": [
       "VBox(children=(HTML(value=\"\\n    <div style='text-align: center; margin-bottom: 20px;'>\\n        <h1 style='co…"
      ]
     },
     "metadata": {},
     "output_type": "display_data"
    }
   ],
   "source": [
    "# Cell 3: Display Interactive Interface\n",
    "\n",
    "# Display the complete interface\n",
    "interface = create_interface(create_model())\n",
    "display(interface)"
   ]
  }
 ],
 "metadata": {
  "kernelspec": {
   "display_name": "Python 3",
   "language": "python",
   "name": "python3"
  },
  "language_info": {
   "codemirror_mode": {
    "name": "ipython",
    "version": 3
   },
   "file_extension": ".py",
   "mimetype": "text/x-python",
   "name": "python",
   "nbconvert_exporter": "python",
   "pygments_lexer": "ipython3",
   "version": "3.10.11"
  }
 },
 "nbformat": 4,
 "nbformat_minor": 5
}
